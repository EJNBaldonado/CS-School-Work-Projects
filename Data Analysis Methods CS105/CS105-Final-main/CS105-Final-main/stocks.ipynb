{
 "cells": [
  {
   "cell_type": "code",
   "execution_count": 567,
   "metadata": {},
   "outputs": [],
   "source": [
    "import pandas as pd \n",
    "from sklearn.linear_model import LinearRegression\n",
    "from datetime import datetime, date\n",
    "import numpy as np \n",
    "\n",
    "userStock = input(\"Enter a ticker symbol: \")\n",
    "\n",
    "stock_data = pd.read_csv(\"dow_jones_index/dow_jones_index.csv\", parse_dates=[\"date\"])\n",
    "stock_data[\"day_of_year\"] = stock_data[\"date\"].dt.dayofyear\n",
    "stock_data[\"close\"] = stock_data[\"close\"].str[1:]\n",
    "stock_data[\"close\"] = stock_data[\"close\"].astype('float')\n"
   ]
  },
  {
   "cell_type": "code",
   "execution_count": 568,
   "metadata": {},
   "outputs": [],
   "source": [
    "training_data = stock_data[stock_data[\"stock\"] == userStock][0:19]\n",
    "testing_data = stock_data[stock_data[\"stock\"] == userStock][20:25]\n",
    "\n",
    "X_train = training_data[[\"day_of_year\"]]\n",
    "y_train = training_data[\"close\"]\n",
    "X_test = testing_data[[\"day_of_year\"]]"
   ]
  },
  {
   "cell_type": "code",
   "execution_count": 569,
   "metadata": {},
   "outputs": [
    {
     "data": {
      "text/plain": [
       "<AxesSubplot:xlabel='day_of_year', ylabel='close'>"
      ]
     },
     "execution_count": 569,
     "metadata": {},
     "output_type": "execute_result"
    },
    {
     "data": {
      "image/png": "[encoded data removed]",
      "text/plain": [
       "<Figure size 432x288 with 1 Axes>"
      ]
     },
     "metadata": {
      "needs_background": "light"
     },
     "output_type": "display_data"
    }
   ],
   "source": [
    "stockModel = LinearRegression()\n",
    "stockModel.fit(\n",
    "    X=X_train,\n",
    "    y=y_train\n",
    ")\n",
    "stockModel.predict(\n",
    "    X=X_test\n",
    ")\n",
    "\n",
    "X_new_stock = pd.DataFrame()\n",
    "X_new_stock[\"day_of_year\"]= np.linspace(0,150, num=7)\n",
    "\n",
    "y_new_stock = pd.Series(\n",
    "    stockModel.predict(X_new_stock),\n",
    "    index=X_new_stock[\"day_of_year\"]\n",
    ")\n",
    "\n",
    "training_data.plot.scatter(x=\"day_of_year\", y=\"close\")\n",
    "y_new_stock.plot.line()"
   ]
  },
  {
   "cell_type": "code",
   "execution_count": 570,
   "metadata": {},
   "outputs": [
    {
     "name": "stdout",
     "output_type": "stream",
     "text": [
      "The slope of the linear regression is:  -0.02613955606964383\n",
      "The intercept of the linear regession is:  28.281551053502984\n"
     ]
    }
   ],
   "source": [
    "print(\"The slope of the linear regression is: \" , stockModel.coef_[0])\n",
    "print(\"The intercept of the linear regession is: \", stockModel.intercept_)"
   ]
  },
  {
   "cell_type": "code",
   "execution_count": 571,
   "metadata": {},
   "outputs": [
    {
     "data": {
      "text/plain": [
       "LinearRegression()"
      ]
     },
     "execution_count": 571,
     "metadata": {},
     "output_type": "execute_result"
    }
   ],
   "source": [
    "stockModel2 = LinearRegression()\n",
    "\n",
    "stockModel2.fit(\n",
    "    X=training_data[[\"day_of_year\"]],\n",
    "    y=training_data[\"close\"]\n",
    ")\n",
    "\n",
    "# userDate = input(\"Enter a date that you want to see the price of \") # 06/26/2011\n",
    "\n",
    "# print(userDate)\n",
    "# userDate_day_of_year = date(int(userDate[6:]), int(userDate[0:2]), int(userDate[3:5]))\n",
    "# print(userDate_day_of_year.timetuple().tm_yday)\n",
    "\n",
    "\n",
    "\n",
    "# stock_predict = pd.DataFrame({\"day_of_year\": [userDate_day_of_year.timetuple().tm_yday]})\n",
    "# ans = stockModel2.predict(\n",
    "#     X=stock_predict[[\"day_of_year\"]]\n",
    "# )\n",
    "\n",
    "# print(ans[0])"
   ]
  },
  {
   "cell_type": "code",
   "execution_count": 572,
   "metadata": {},
   "outputs": [
    {
     "name": "stdout",
     "output_type": "stream",
     "text": [
      "The average correlation during the 2011 in the DOW Jones Index is  0.16248216400042945\n",
      "The highest correlation was MCD at a correlation of  0.8929307800638213\n",
      "The lowest correlation was BAC at a correlation of  -0.9416455315852489\n"
     ]
    }
   ],
   "source": [
    "# Pearson Test: Figure out which stock is growing the fastest during the two quarters \n",
    "from scipy.stats import pearsonr\n",
    "\n",
    "stockNames = stock_data.stock.unique()\n",
    "\n",
    "totalCorr = 0\n",
    "maxCorr = 0\n",
    "minCorr = float(\"inf\")\n",
    "stockNameMax = \"\"\n",
    "stockNameMin = \"\"\n",
    "for x in stockNames:\n",
    "    stockName = stock_data[stock_data[\"stock\"] == x]\n",
    "    corr, _ = pearsonr(stockName[\"day_of_year\"], stockName[\"close\"])\n",
    "    totalCorr += corr\n",
    "    if(corr > maxCorr):\n",
    "        maxCorr = corr\n",
    "        stockNameMax = x\n",
    "    if(corr < minCorr):\n",
    "        minCorr = corr\n",
    "        stockNameMin = x\n",
    "\n",
    "print(\"The average correlation during the 2011 in the DOW Jones Index is \", totalCorr / 30)\n",
    "print(\"The highest correlation was\", stockNameMax, \"at a correlation of \", maxCorr)\n",
    "print(\"The lowest correlation was\", stockNameMin, \"at a correlation of \", minCorr)\n"
   ]
  },
  {
   "cell_type": "code",
   "execution_count": 573,
   "metadata": {},
   "outputs": [
    {
     "name": "stdout",
     "output_type": "stream",
     "text": [
      "Mean Absolute Error (MAE) for MSFT : 1.3889516231009271\n"
     ]
    },
    {
     "data": {
      "text/plain": [
       "<AxesSubplot:xlabel='day_of_year', ylabel='Close'>"
      ]
     },
     "execution_count": 573,
     "metadata": {},
     "output_type": "execute_result"
    },
    {
     "data": {
      "image/png": "[encoded data removed]",
      "text/plain": [
       "<Figure size 432x288 with 1 Axes>"
      ]
     },
     "metadata": {
      "needs_background": "light"
     },
     "output_type": "display_data"
    }
   ],
   "source": [
    "# Add three or four stocks at quarter 3 of 2011. Compute the predicted prize of the stock with our model and compare with the actual\n",
    "# value. \n",
    "\n",
    "\n",
    "file_name = \"stockData/\" + userStock + \"q3\" + \".csv\"\n",
    "stock_data = pd.read_csv(file_name, parse_dates=[\"Date\"])\n",
    "stock_data[\"day_of_year\"] = stock_data[\"Date\"].dt.dayofyear\n",
    "predicted_array = []\n",
    "for doy in stock_data.day_of_year:\n",
    "    stock_predict = pd.DataFrame({\"day_of_year\": [doy]})\n",
    "    predictedClose = stockModel2.predict(\n",
    "        X = stock_predict[[\"day_of_year\"]]\n",
    "    )\n",
    "    predicted_array.append(predictedClose[0])\n",
    "    loss_total = 0\n",
    "    for i in range(0, len(predicted_array)):\n",
    "        loss_total += abs(predicted_array[i] - stock_data.Close[i])\n",
    "print(\"Mean Absolute Error (MAE) for\", userStock , \":\", loss_total / len(predicted_array))\n",
    "\n",
    "X_stock = pd.DataFrame()\n",
    "X_stock[\"day_of_year\"]= np.linspace(150, 300, num=7)\n",
    "y_stock = pd.Series(\n",
    "    stockModel.predict(X_stock),\n",
    "    index=X_stock[\"day_of_year\"]\n",
    ")\n",
    "\n",
    "stock_data.plot.scatter(x = \"day_of_year\", y = \"Close\")\n",
    "y_stock.plot.line()\n",
    "\n"
   ]
  },
  {
   "cell_type": "code",
   "execution_count": 574,
   "metadata": {},
   "outputs": [
    {
     "name": "stdout",
     "output_type": "stream",
     "text": [
      "Mean Absolute Error (MAE) for MSFT : 10.53928916125914\n"
     ]
    },
    {
     "data": {
      "text/plain": [
       "<AxesSubplot:xlabel='day_of_year', ylabel='Close'>"
      ]
     },
     "execution_count": 574,
     "metadata": {},
     "output_type": "execute_result"
    },
    {
     "data": {
      "image/png": "[encoded data removed]",
      "text/plain": [
       "<Figure size 432x288 with 1 Axes>"
      ]
     },
     "metadata": {
      "needs_background": "light"
     },
     "output_type": "display_data"
    }
   ],
   "source": [
    "# Add three or four stocks at quarter 2 of 2012. Compute the predicted prize of the stock with our model and compare with the actual\n",
    "# value. \n",
    "\n",
    "\n",
    "file_name = \"stockData/\" + userStock + \"q2\" + \".csv\"\n",
    "stock_data = pd.read_csv(file_name, parse_dates=[\"Date\"])\n",
    "stock_data[\"day_of_year\"] = stock_data[\"Date\"].dt.dayofyear + 183\n",
    "predicted_array = []\n",
    "for doy in stock_data.day_of_year:\n",
    "    stock_predict = pd.DataFrame({\"day_of_year\": [doy]})\n",
    "    predictedClose = stockModel2.predict(\n",
    "        X = stock_predict[[\"day_of_year\"]]\n",
    "    )\n",
    "    predicted_array.append(predictedClose[0])\n",
    "    loss_total = 0\n",
    "    for i in range(0, len(predicted_array)):\n",
    "        loss_total += abs(predicted_array[i] - stock_data.Close[i])\n",
    "print(\"Mean Absolute Error (MAE) for\", userStock , \":\", loss_total / len(predicted_array))\n",
    "\n",
    "X_stock = pd.DataFrame()\n",
    "X_stock[\"day_of_year\"]= np.linspace(250, 400, num=7)\n",
    "y_stock = pd.Series(\n",
    "    stockModel.predict(X_stock),\n",
    "    index=X_stock[\"day_of_year\"]\n",
    ")\n",
    "\n",
    "stock_data.plot.scatter(x = \"day_of_year\", y = \"Close\")\n",
    "y_stock.plot.line()"
   ]
  }
 ],
 "metadata": {
  "interpreter": {
   "hash": "e534e48711db4d1e1c48977d0d14ff85b1f16d41bcc4fdfd88268a329b3c9d66"
  },
  "kernelspec": {
   "display_name": "",
   "language": "python",
   "name": "python3"
  },
  "language_info": {
   "codemirror_mode": {
    "name": "ipython",
    "version": 3
   },
   "file_extension": ".py",
   "mimetype": "text/x-python",
   "name": "python",
   "nbconvert_exporter": "python",
   "pygments_lexer": "ipython3",
   "version": "3.8.8"
  },
  "orig_nbformat": 4
 },
 "nbformat": 4,
 "nbformat_minor": 2
}
